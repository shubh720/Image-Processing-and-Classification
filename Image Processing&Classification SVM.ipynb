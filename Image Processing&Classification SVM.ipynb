{
 "cells": [
  {
   "cell_type": "code",
   "execution_count": 1,
   "metadata": {},
   "outputs": [],
   "source": [
    "import numpy as np\n",
    "from keras.preprocessing import image\n",
    "from pathlib import Path"
   ]
  },
  {
   "cell_type": "code",
   "execution_count": 50,
   "metadata": {},
   "outputs": [
    {
     "name": "stdout",
     "output_type": "stream",
     "text": [
      "../Datasets/machine-learning-online-2018-master/Datasets/Images/images\n"
     ]
    }
   ],
   "source": [
    "# gives object of path\n",
    "p = Path(\"../Datasets/machine-learning-online-2018-master/Datasets/Images/images/\")\n",
    "print(p)"
   ]
  },
  {
   "cell_type": "code",
   "execution_count": 51,
   "metadata": {},
   "outputs": [
    {
     "name": "stdout",
     "output_type": "stream",
     "text": [
      "<generator object Path.glob at 0x7fcd09cd9550>\n",
      "<class 'generator'>\n"
     ]
    }
   ],
   "source": [
    "# gives address of \n",
    "dirs = p.glob(\"*\")\n",
    "\n",
    "# iterating over all dirs\n",
    "print(dirs)\n",
    "print(type(dirs))"
   ]
  },
  {
   "cell_type": "code",
   "execution_count": 52,
   "metadata": {},
   "outputs": [],
   "source": [
    "labels = []\n",
    "image_data = []\n",
    "\n",
    "label_dict = {\"dogs\":0, \"cats\":1, \"horses\":2, \"humans\":3}\n",
    "\n",
    "\n",
    "for folder_name in dirs:\n",
    "    # label for mapping\n",
    "    label = str(folder_name).split(\"\\\\\")[-1]\n",
    "    label = label.split('/')[-1]\n",
    "    \n",
    "    for img_path in folder_name.glob(\"*.jpg\"):\n",
    "        img = image.load_img(img_path,target_size=(32,32))\n",
    "        image_arr = image.img_to_array(img)\n",
    "        \n",
    "        # append at correct position\n",
    "        image_data.append(image_arr)\n",
    "        labels.append(label_dict[label])"
   ]
  },
  {
   "cell_type": "code",
   "execution_count": 53,
   "metadata": {},
   "outputs": [
    {
     "name": "stdout",
     "output_type": "stream",
     "text": [
      "808\n"
     ]
    }
   ],
   "source": [
    "print(len(labels))"
   ]
  },
  {
   "cell_type": "code",
   "execution_count": 54,
   "metadata": {},
   "outputs": [],
   "source": [
    "# to work on data convert into numpy\n",
    "image_data = np.array(image_data,dtype=\"float32\")/255.0\n",
    "labels = np.array(labels)"
   ]
  },
  {
   "cell_type": "code",
   "execution_count": 55,
   "metadata": {},
   "outputs": [
    {
     "name": "stdout",
     "output_type": "stream",
     "text": [
      "(808, 32, 32, 3)\n",
      "(808,)\n"
     ]
    }
   ],
   "source": [
    "# image X (x-axis) X (y-axis) X (channel)\n",
    "print(image_data.shape)\n",
    "print(labels.shape)"
   ]
  },
  {
   "cell_type": "code",
   "execution_count": 56,
   "metadata": {},
   "outputs": [],
   "source": [
    "# shuffle entire data bcoz currently it's all sorted\n",
    "# NOTE : don't forget to link id's else id's would change\n",
    "\n",
    "combine = list(zip(image_data,labels))\n",
    "np.random.shuffle(combine)\n",
    "\n",
    "# Un-zip\n",
    "image_data[:],labels[:] = zip(*combine)"
   ]
  },
  {
   "cell_type": "code",
   "execution_count": 57,
   "metadata": {},
   "outputs": [
    {
     "name": "stdout",
     "output_type": "stream",
     "text": [
      "[[[0.22745098 0.22745098 0.32941177]\n",
      "  [0.2627451  0.2627451  0.3647059 ]\n",
      "  [0.25882354 0.25882354 0.36078432]\n",
      "  ...\n",
      "  [0.24313726 0.24313726 0.34509805]\n",
      "  [0.22745098 0.23137255 0.3137255 ]\n",
      "  [0.16862746 0.16078432 0.16470589]]\n",
      "\n",
      " [[0.29803923 0.30588236 0.05098039]\n",
      "  [0.3529412  0.3019608  0.09411765]\n",
      "  [0.57254905 0.4392157  0.2509804 ]\n",
      "  ...\n",
      "  [0.41568628 0.35686275 0.20392157]\n",
      "  [0.44705883 0.40784314 0.2       ]\n",
      "  [0.5529412  0.47843137 0.21960784]]\n",
      "\n",
      " [[0.92156863 0.9137255  0.91764706]\n",
      "  [0.92156863 0.9137255  0.91764706]\n",
      "  [0.9137255  0.90588236 0.9098039 ]\n",
      "  ...\n",
      "  [0.9137255  0.9098039  0.9019608 ]\n",
      "  [0.93333334 0.93333334 0.93333334]\n",
      "  [0.9411765  0.9411765  0.9411765 ]]\n",
      "\n",
      " ...\n",
      "\n",
      " [[0.5568628  0.5647059  0.5137255 ]\n",
      "  [0.5686275  0.5686275  0.52156866]\n",
      "  [0.5647059  0.57254905 0.52156866]\n",
      "  ...\n",
      "  [0.17254902 0.15294118 0.12941177]\n",
      "  [0.20392157 0.20784314 0.15294118]\n",
      "  [0.50980395 0.5176471  0.46666667]]\n",
      "\n",
      " [[0.8980392  0.90588236 0.9019608 ]\n",
      "  [0.9098039  0.91764706 0.9137255 ]\n",
      "  [0.9019608  0.92156863 0.90588236]\n",
      "  ...\n",
      "  [0.05098039 0.08627451 0.08235294]\n",
      "  [0.84313726 0.9019608  0.8901961 ]\n",
      "  [0.95686275 0.9607843  0.96862745]]\n",
      "\n",
      " [[0.         0.         0.        ]\n",
      "  [0.         0.         0.        ]\n",
      "  [0.03137255 0.         0.        ]\n",
      "  ...\n",
      "  [0.         0.         0.        ]\n",
      "  [0.         0.         0.        ]\n",
      "  [0.         0.         0.        ]]] [1 2 2 3 2]\n"
     ]
    }
   ],
   "source": [
    "print(image_data[:,5],labels[:5])"
   ]
  },
  {
   "cell_type": "markdown",
   "metadata": {},
   "source": [
    "## VISUALIZE DATA"
   ]
  },
  {
   "cell_type": "code",
   "execution_count": 58,
   "metadata": {},
   "outputs": [],
   "source": [
    "import matplotlib.pyplot as plt"
   ]
  },
  {
   "cell_type": "code",
   "execution_count": 59,
   "metadata": {},
   "outputs": [],
   "source": [
    "def drawImg(mat):\n",
    "    plt.axis(\"off\")\n",
    "    plt.imshow(mat)\n",
    "    plt.show()"
   ]
  },
  {
   "cell_type": "code",
   "execution_count": 60,
   "metadata": {},
   "outputs": [
    {
     "data": {
      "image/png": "[encoded data removed]",
      "text/plain": [
       "<Figure size 432x288 with 1 Axes>"
      ]
     },
     "metadata": {
      "needs_background": "light"
     },
     "output_type": "display_data"
    },
    {
     "data": {
      "image/png": "[encoded data removed]",
      "text/plain": [
       "<Figure size 432x288 with 1 Axes>"
      ]
     },
     "metadata": {
      "needs_background": "light"
     },
     "output_type": "display_data"
    },
    {
     "data": {
      "image/png": "[encoded data removed]",
      "text/plain": [
       "<Figure size 432x288 with 1 Axes>"
      ]
     },
     "metadata": {
      "needs_background": "light"
     },
     "output_type": "display_data"
    }
   ],
   "source": [
    "drawImg(image_data[0])\n",
    "drawImg(image_data[2])\n",
    "drawImg(image_data[100])"
   ]
  },
  {
   "cell_type": "code",
   "execution_count": 61,
   "metadata": {},
   "outputs": [],
   "source": [
    "class SVM:\n",
    "    \n",
    "    def __init__(self,C=1.0):\n",
    "        \n",
    "        self.C = C\n",
    "        self.W = 0\n",
    "        self.b = 0\n",
    "    \n",
    "    def hingeLoss(self,X,y,W):\n",
    "        loss = 0.0\n",
    "        \n",
    "        loss += .5*np.dot(W,W.T)\n",
    "        m,n = X.shape\n",
    "        bias = self.b\n",
    "        \n",
    "        for i in range(m):\n",
    "            ti = y[i]*(np.dot(W,X[i])+bias)\n",
    "            loss += self.C * max(0,1-ti)\n",
    "        \n",
    "        return loss[0][0]\n",
    "    \n",
    "    def fit(self,X,y,maxItr=300,LR=0.001,batch_size=100):\n",
    "        \n",
    "        m,n = X.shape\n",
    "        W = np.zeros((1,n))\n",
    "        \n",
    "        c = self.C\n",
    "        bias = self.b\n",
    "        \n",
    "        losses = []\n",
    "        # calc gradient first then update    \n",
    "        ids = np.arange(0,m)\n",
    "        np.random.shuffle(ids)\n",
    "        \n",
    "        # will perform gradient desent maxItr times\n",
    "        for i in range(maxItr):\n",
    "            \n",
    "            loss = self.hingeLoss(X,y,W)\n",
    "            losses.append(loss)\n",
    "        \n",
    "            # acc to ppr do in batch\n",
    "            for batch in range(0,m,batch_size):\n",
    "                \n",
    "                gradw = 0.0\n",
    "                gradb = 0.0\n",
    "                \n",
    "                for j in range(batch,batch+batch_size):\n",
    "                    if j<m:\n",
    "                        i = ids[j]\n",
    "                        ti = y[i] * (np.dot(W,X[i]) + bias)\n",
    "                        \n",
    "                        if ti >= 1:\n",
    "                            gradw += 0\n",
    "                            gradb += 0\n",
    "                        else:\n",
    "                            gradw += c*X[i]*y[i]\n",
    "                            gradb += c*y[i]\n",
    "                \n",
    "                # update\n",
    "                W = W - LR*W + LR*gradw\n",
    "                bias = bias + LR*gradb\n",
    "                self.W = W\n",
    "                self.b = bias\n",
    "                \n",
    "        return W,bias,losses     "
   ]
  },
  {
   "cell_type": "code",
   "execution_count": 62,
   "metadata": {},
   "outputs": [
    {
     "name": "stdout",
     "output_type": "stream",
     "text": [
      "(808, 3072)\n"
     ]
    }
   ],
   "source": [
    "image_data = image_data.reshape(image_data.shape[0],-1)\n",
    "print(image_data.shape)"
   ]
  },
  {
   "cell_type": "code",
   "execution_count": 63,
   "metadata": {},
   "outputs": [],
   "source": [
    "no_of_labels = np.unique(labels)\n",
    "\n",
    "def distributionAccToLabels(image_data,labels):\n",
    "    image_dict = {}\n",
    "    # created dict of list\n",
    "    for i in no_of_labels:\n",
    "        image_dict[i] = []\n",
    "    \n",
    "    for i in range(image_data.shape[0]):\n",
    "        cur_label = labels[i]\n",
    "        image_dict[cur_label].append(image_data[i])\n",
    "    \n",
    "    for i in no_of_labels:\n",
    "        image_dict[i] = np.array(image_dict[i])\n",
    "    \n",
    "    return image_dict\n",
    "    "
   ]
  },
  {
   "cell_type": "code",
   "execution_count": 66,
   "metadata": {},
   "outputs": [
    {
     "name": "stdout",
     "output_type": "stream",
     "text": [
      "(202, 3072)\n"
     ]
    }
   ],
   "source": [
    "image_dict = distributionAccToLabels(image_data,labels)\n",
    "print(image_dict[0].shape)"
   ]
  },
  {
   "cell_type": "code",
   "execution_count": 77,
   "metadata": {},
   "outputs": [],
   "source": [
    "def getDataMatrix(d1,d2):\n",
    "    \n",
    "    len1,len2 = d1.shape[0],d2.shape[0]\n",
    "    feature = d1.shape[1]\n",
    "    data = np.zeros((len1+len2,feature))\n",
    "    label = np.zeros((len1+len2,))\n",
    "    \n",
    "    data[:len1,:] = d1\n",
    "    data[len1:,:] = d2\n",
    "    \n",
    "    label[:len1] = 1\n",
    "    label[len1:] = -1\n",
    "    \n",
    "    return data,label"
   ]
  },
  {
   "cell_type": "code",
   "execution_count": 78,
   "metadata": {},
   "outputs": [],
   "source": [
    "data,label = getDataMatrix(image_dict[0],image_dict[1])"
   ]
  },
  {
   "cell_type": "code",
   "execution_count": 79,
   "metadata": {},
   "outputs": [
    {
     "name": "stdout",
     "output_type": "stream",
     "text": [
      "[[0.36470589 0.32549021 0.32941177 ... 0.77254903 0.74901962 0.69411767]\n",
      " [0.72156864 0.75686276 0.7764706  ... 0.60000002 0.39607844 0.09803922]\n",
      " [0.25098041 0.25098041 0.11764706 ... 0.01176471 0.01176471 0.00392157]\n",
      " ...\n",
      " [1.         0.97254902 0.97647059 ... 0.98823529 0.99215686 0.97254902]\n",
      " [0.23921569 0.24313726 0.22352941 ... 0.36862746 0.32156864 0.25882354]\n",
      " [0.98823529 0.98823529 0.98823529 ... 0.60784316 0.78039217 0.89411765]]\n"
     ]
    }
   ],
   "source": [
    "print(data)"
   ]
  },
  {
   "cell_type": "code",
   "execution_count": 80,
   "metadata": {},
   "outputs": [
    {
     "name": "stdout",
     "output_type": "stream",
     "text": [
      "[ 1.  1.  1.  1.  1.  1.  1.  1.  1.  1.  1.  1.  1.  1.  1.  1.  1.  1.\n",
      "  1.  1.  1.  1.  1.  1.  1.  1.  1.  1.  1.  1.  1.  1.  1.  1.  1.  1.\n",
      "  1.  1.  1.  1.  1.  1.  1.  1.  1.  1.  1.  1.  1.  1.  1.  1.  1.  1.\n",
      "  1.  1.  1.  1.  1.  1.  1.  1.  1.  1.  1.  1.  1.  1.  1.  1.  1.  1.\n",
      "  1.  1.  1.  1.  1.  1.  1.  1.  1.  1.  1.  1.  1.  1.  1.  1.  1.  1.\n",
      "  1.  1.  1.  1.  1.  1.  1.  1.  1.  1.  1.  1.  1.  1.  1.  1.  1.  1.\n",
      "  1.  1.  1.  1.  1.  1.  1.  1.  1.  1.  1.  1.  1.  1.  1.  1.  1.  1.\n",
      "  1.  1.  1.  1.  1.  1.  1.  1.  1.  1.  1.  1.  1.  1.  1.  1.  1.  1.\n",
      "  1.  1.  1.  1.  1.  1.  1.  1.  1.  1.  1.  1.  1.  1.  1.  1.  1.  1.\n",
      "  1.  1.  1.  1.  1.  1.  1.  1.  1.  1.  1.  1.  1.  1.  1.  1.  1.  1.\n",
      "  1.  1.  1.  1.  1.  1.  1.  1.  1.  1.  1.  1.  1.  1.  1.  1.  1.  1.\n",
      "  1.  1.  1.  1. -1. -1. -1. -1. -1. -1. -1. -1. -1. -1. -1. -1. -1. -1.\n",
      " -1. -1. -1. -1. -1. -1. -1. -1. -1. -1. -1. -1. -1. -1. -1. -1. -1. -1.\n",
      " -1. -1. -1. -1. -1. -1. -1. -1. -1. -1. -1. -1. -1. -1. -1. -1. -1. -1.\n",
      " -1. -1. -1. -1. -1. -1. -1. -1. -1. -1. -1. -1. -1. -1. -1. -1. -1. -1.\n",
      " -1. -1. -1. -1. -1. -1. -1. -1. -1. -1. -1. -1. -1. -1. -1. -1. -1. -1.\n",
      " -1. -1. -1. -1. -1. -1. -1. -1. -1. -1. -1. -1. -1. -1. -1. -1. -1. -1.\n",
      " -1. -1. -1. -1. -1. -1. -1. -1. -1. -1. -1. -1. -1. -1. -1. -1. -1. -1.\n",
      " -1. -1. -1. -1. -1. -1. -1. -1. -1. -1. -1. -1. -1. -1. -1. -1. -1. -1.\n",
      " -1. -1. -1. -1. -1. -1. -1. -1. -1. -1. -1. -1. -1. -1. -1. -1. -1. -1.\n",
      " -1. -1. -1. -1. -1. -1. -1. -1. -1. -1. -1. -1. -1. -1. -1. -1. -1. -1.\n",
      " -1. -1. -1. -1. -1. -1. -1. -1. -1. -1. -1. -1. -1. -1. -1. -1. -1. -1.\n",
      " -1. -1. -1. -1. -1. -1. -1. -1.]\n"
     ]
    }
   ],
   "source": [
    "print(label)"
   ]
  },
  {
   "cell_type": "code",
   "execution_count": 93,
   "metadata": {},
   "outputs": [],
   "source": [
    "mySVM = SVM(1.0)\n",
    "xp,yp = getDataMatrix(image_dict[0],image_dict[1])\n",
    "data,lab,loss = mySVM.fit(xp,yp,LR=0.000001,maxItr=1000)\n"
   ]
  },
  {
   "cell_type": "code",
   "execution_count": 94,
   "metadata": {},
   "outputs": [
    {
     "data": {
      "text/plain": [
       "[<matplotlib.lines.Line2D at 0x7fcd123a77d0>]"
      ]
     },
     "execution_count": 94,
     "metadata": {},
     "output_type": "execute_result"
    },
    {
     "data": {
      "image/png": "[encoded data removed]",
      "text/plain": [
       "<Figure size 432x288 with 1 Axes>"
      ]
     },
     "metadata": {
      "needs_background": "light"
     },
     "output_type": "display_data"
    }
   ],
   "source": [
    "plt.plot(loss)"
   ]
  },
  {
   "cell_type": "code",
   "execution_count": null,
   "metadata": {},
   "outputs": [],
   "source": []
  }
 ],
 "metadata": {
  "kernelspec": {
   "display_name": "Python 3",
   "language": "python",
   "name": "python3"
  },
  "language_info": {
   "codemirror_mode": {
    "name": "ipython",
    "version": 3
   },
   "file_extension": ".py",
   "mimetype": "text/x-python",
   "name": "python",
   "nbconvert_exporter": "python",
   "pygments_lexer": "ipython3",
   "version": "3.7.6"
  }
 },
 "nbformat": 4,
 "nbformat_minor": 4
}
